{
 "cells": [
  {
   "cell_type": "markdown",
   "metadata": {},
   "source": [
    "# Title: Monash Time Series Forecasting Archive\n",
    "\n",
    "#### Group Member Names : Yash Ramani & Ashishkumar Savani\n",
    "\n",
    "####  Emails : 200572154@student.georgianc.on.ca & 200564982@student.georgianc.on.ca"
   ]
  },
  {
   "cell_type": "markdown",
   "metadata": {},
   "source": [
    "### INTRODUCTION:\n",
    "In time series classification, there exist two well-known publicly available dataset archives: University of California Riverside (UCR) repository (Dau et al., 2019) and University of East Anglia (UEA) repository (Bagnall et al., 2018). The UCR repository was first released in 2002 with 16 datasets and at present, the number of datasets is 128, containing datasets of non-normalised time series, of varying lengths, and time series with missing values (Dau et al., 2019). The UCR repository contains only univariate time series datasets. Therefore, recently a group of researchers from UEA released the first multivariate time series classification archive which is known as UEA repository (Bagnall et al., 2018).\n",
    "*********************************************************************************************************************\n",
    "#### AIM : \n",
    "This project analytically examine the usefulness related to the experiments on a set of publicly available datasets that are used in the time series forecasting research space.\n",
    "*********************************************************************************************************************\n",
    "#### Github Repo: \n",
    "https://github.com/rakshitha123/TSForecasting/tree/master\n",
    "*********************************************************************************************************************\n",
    "#### DESCRIPTION OF PAPER:\n",
    "In this paper, we present a comprehensive time series forecasting repository which includes publicly available time series datasets from multiple domains, each with a unique frequency, series length, and inclusion of missing values. We also analyze the datasets and figure out similarities and differences between them using feature analysis. In addition, we illustrate the usefulness of a set of baseline forecasting standards across all datasets and eight error metrics.\n",
    "*********************************************************************************************************************\n",
    "#### PROBLEM STATEMENT :\n",
    "* The research only compares 13 baselines, which means that it misses certain newly published works. It would be more informative to compare with more advanced time-series forecasting models.\n",
    "\n",
    "* Time-series lack a unified metrics for evaluation. This paper raises this problem but leaves the decision to the owners of specific applications.\n",
    "*********************************************************************************************************************\n",
    "#### CONTEXT OF THE PROBLEM:\n",
    "* There are currently no comprehensive time series forecasting benchmarking archives, to the best of our knowledge, that focus on such datasets of related time series to evaluate the performance of such global forecasting algorithms.\n",
    "*********************************************************************************************************************\n",
    "#### SOLUTION:\n",
    "Our aim is to address this limitation by introducing such an archive. In particular,\n",
    "our paper has the following main contributions.\n",
    "\n",
    "* The dataset is constructed in a sound way. The experiments are performed reasonably.\n",
    "* We can see major difference in Median MASE, Mean RMSE and Median RMSE but that might be due to low data size. Apart from this we also added one extra model known as a Seasonal Decomposition of Time Series (STL). To add this model we made changes in experiments/fixed_horizon.R, models/local_univariate_models.R, experiments/rolling_origin.R these files. \n",
    "* In this the full pipeline is executed for all local and global models using two single function calls."
   ]
  },
  {
   "cell_type": "markdown",
   "metadata": {},
   "source": [
    "# Background\n",
    "*********************************************************************************************************************\n",
    "\n",
    "\n",
    "|Reference|Explanation|Dataset/Input|Weakness|\n",
    "|------|------|------|------|\n",
    "\n",
    "\n",
    "\n",
    "*********************************************************************************************************************\n",
    "\n",
    "\n",
    "\n",
    "\n"
   ]
  },
  {
   "cell_type": "markdown",
   "metadata": {},
   "source": [
    "# Implement paper code :\n",
    "*********************************************************************************************************************\n",
    "\n",
    "* \n",
    "\n"
   ]
  },
  {
   "cell_type": "markdown",
   "metadata": {},
   "source": [
    "*********************************************************************************************************************\n",
    "### Contribution  Code :\n",
    "* "
   ]
  },
  {
   "cell_type": "markdown",
   "metadata": {},
   "source": [
    "### Results :\n",
    "*******************************************************************************************************************************\n",
    "\n",
    "\n",
    "#### Observations :\n",
    "*******************************************************************************************************************************\n",
    "* \n"
   ]
  },
  {
   "cell_type": "markdown",
   "metadata": {},
   "source": [
    "### Conclusion and Future Direction :\n",
    "*******************************************************************************************************************************\n",
    "#### Learnings : \n",
    "\n",
    "*******************************************************************************************************************************\n",
    "#### Results Discussion :\n",
    "\n",
    "\n",
    "*******************************************************************************************************************************\n",
    "#### Limitations :\n",
    "\n",
    "\n",
    "\n",
    "*******************************************************************************************************************************\n",
    "#### Future Extension :\n"
   ]
  },
  {
   "cell_type": "markdown",
   "metadata": {},
   "source": [
    "# References:\n",
    "\n",
    "[1]: Wang, E., Cook, D., Hyndman, R. J. (2020). A new tidy data structure to support exploration and modeling of temporal data. Journal of Computational and Graphical Statistics. doi:10.1080/10618600.2019.1695624.\n",
    "\n",
    "[2]: R Core Team (2018). foreign: Read Data Stored by 'Minitab', 'S', 'SAS', 'SPSS', 'Stata', 'Systat', 'Weka', 'dBase', .... R package version 0.8-71. https://CRAN.R-project.org/package=foreign"
   ]
  },
  {
   "cell_type": "markdown",
   "metadata": {},
   "source": []
  }
 ],
 "metadata": {
  "kernelspec": {
   "display_name": "Python 3 (ipykernel)",
   "language": "python",
   "name": "python3"
  },
  "language_info": {
   "codemirror_mode": {
    "name": "ipython",
    "version": 3
   },
   "file_extension": ".py",
   "mimetype": "text/x-python",
   "name": "python",
   "nbconvert_exporter": "python",
   "pygments_lexer": "ipython3",
   "version": "3.10.9"
  }
 },
 "nbformat": 4,
 "nbformat_minor": 2
}
